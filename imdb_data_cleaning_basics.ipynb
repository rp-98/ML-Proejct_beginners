{
 "cells": [
  {
   "cell_type": "code",
   "execution_count": 1,
   "metadata": {},
   "outputs": [],
   "source": [
    "import pandas as pd\n",
    "import numpy as np \n",
    "import matplotlib.pyplot as plt\n",
    "import seaborn as sns\n",
    "from scipy import stats\n",
    "%matplotlib inline"
   ]
  },
  {
   "cell_type": "code",
   "execution_count": 2,
   "metadata": {},
   "outputs": [],
   "source": [
    "path='https://raw.githubusercontent.com/suvoooo/Machine_Learning/master/datacleaning/movie_metadata.csv'\n",
    "df=pd.read_csv(path)"
   ]
  },
  {
   "cell_type": "code",
   "execution_count": 3,
   "metadata": {},
   "outputs": [
    {
     "data": {
      "text/html": [
       "<div>\n",
       "<style scoped>\n",
       "    .dataframe tbody tr th:only-of-type {\n",
       "        vertical-align: middle;\n",
       "    }\n",
       "\n",
       "    .dataframe tbody tr th {\n",
       "        vertical-align: top;\n",
       "    }\n",
       "\n",
       "    .dataframe thead th {\n",
       "        text-align: right;\n",
       "    }\n",
       "</style>\n",
       "<table border=\"1\" class=\"dataframe\">\n",
       "  <thead>\n",
       "    <tr style=\"text-align: right;\">\n",
       "      <th></th>\n",
       "      <th>color</th>\n",
       "      <th>director_name</th>\n",
       "      <th>num_critic_for_reviews</th>\n",
       "      <th>duration</th>\n",
       "      <th>director_facebook_likes</th>\n",
       "      <th>actor_3_facebook_likes</th>\n",
       "      <th>actor_2_name</th>\n",
       "      <th>actor_1_facebook_likes</th>\n",
       "      <th>gross</th>\n",
       "      <th>genres</th>\n",
       "      <th>...</th>\n",
       "      <th>num_user_for_reviews</th>\n",
       "      <th>language</th>\n",
       "      <th>country</th>\n",
       "      <th>content_rating</th>\n",
       "      <th>budget</th>\n",
       "      <th>title_year</th>\n",
       "      <th>actor_2_facebook_likes</th>\n",
       "      <th>imdb_score</th>\n",
       "      <th>aspect_ratio</th>\n",
       "      <th>movie_facebook_likes</th>\n",
       "    </tr>\n",
       "  </thead>\n",
       "  <tbody>\n",
       "    <tr>\n",
       "      <td>0</td>\n",
       "      <td>Color</td>\n",
       "      <td>James Cameron</td>\n",
       "      <td>723.0</td>\n",
       "      <td>178.0</td>\n",
       "      <td>0.0</td>\n",
       "      <td>855.0</td>\n",
       "      <td>Joel David Moore</td>\n",
       "      <td>1000.0</td>\n",
       "      <td>760505847.0</td>\n",
       "      <td>Action|Adventure|Fantasy|Sci-Fi</td>\n",
       "      <td>...</td>\n",
       "      <td>3054.0</td>\n",
       "      <td>English</td>\n",
       "      <td>USA</td>\n",
       "      <td>PG-13</td>\n",
       "      <td>237000000.0</td>\n",
       "      <td>2009.0</td>\n",
       "      <td>936.0</td>\n",
       "      <td>7.9</td>\n",
       "      <td>1.78</td>\n",
       "      <td>33000</td>\n",
       "    </tr>\n",
       "    <tr>\n",
       "      <td>1</td>\n",
       "      <td>Color</td>\n",
       "      <td>Gore Verbinski</td>\n",
       "      <td>302.0</td>\n",
       "      <td>169.0</td>\n",
       "      <td>563.0</td>\n",
       "      <td>1000.0</td>\n",
       "      <td>Orlando Bloom</td>\n",
       "      <td>40000.0</td>\n",
       "      <td>309404152.0</td>\n",
       "      <td>Action|Adventure|Fantasy</td>\n",
       "      <td>...</td>\n",
       "      <td>1238.0</td>\n",
       "      <td>English</td>\n",
       "      <td>USA</td>\n",
       "      <td>PG-13</td>\n",
       "      <td>300000000.0</td>\n",
       "      <td>2007.0</td>\n",
       "      <td>5000.0</td>\n",
       "      <td>7.1</td>\n",
       "      <td>2.35</td>\n",
       "      <td>0</td>\n",
       "    </tr>\n",
       "    <tr>\n",
       "      <td>2</td>\n",
       "      <td>Color</td>\n",
       "      <td>Sam Mendes</td>\n",
       "      <td>602.0</td>\n",
       "      <td>148.0</td>\n",
       "      <td>0.0</td>\n",
       "      <td>161.0</td>\n",
       "      <td>Rory Kinnear</td>\n",
       "      <td>11000.0</td>\n",
       "      <td>200074175.0</td>\n",
       "      <td>Action|Adventure|Thriller</td>\n",
       "      <td>...</td>\n",
       "      <td>994.0</td>\n",
       "      <td>English</td>\n",
       "      <td>UK</td>\n",
       "      <td>PG-13</td>\n",
       "      <td>245000000.0</td>\n",
       "      <td>2015.0</td>\n",
       "      <td>393.0</td>\n",
       "      <td>6.8</td>\n",
       "      <td>2.35</td>\n",
       "      <td>85000</td>\n",
       "    </tr>\n",
       "    <tr>\n",
       "      <td>3</td>\n",
       "      <td>Color</td>\n",
       "      <td>Christopher Nolan</td>\n",
       "      <td>813.0</td>\n",
       "      <td>164.0</td>\n",
       "      <td>22000.0</td>\n",
       "      <td>23000.0</td>\n",
       "      <td>Christian Bale</td>\n",
       "      <td>27000.0</td>\n",
       "      <td>448130642.0</td>\n",
       "      <td>Action|Thriller</td>\n",
       "      <td>...</td>\n",
       "      <td>2701.0</td>\n",
       "      <td>English</td>\n",
       "      <td>USA</td>\n",
       "      <td>PG-13</td>\n",
       "      <td>250000000.0</td>\n",
       "      <td>2012.0</td>\n",
       "      <td>23000.0</td>\n",
       "      <td>8.5</td>\n",
       "      <td>2.35</td>\n",
       "      <td>164000</td>\n",
       "    </tr>\n",
       "    <tr>\n",
       "      <td>4</td>\n",
       "      <td>NaN</td>\n",
       "      <td>Doug Walker</td>\n",
       "      <td>NaN</td>\n",
       "      <td>NaN</td>\n",
       "      <td>131.0</td>\n",
       "      <td>NaN</td>\n",
       "      <td>Rob Walker</td>\n",
       "      <td>131.0</td>\n",
       "      <td>NaN</td>\n",
       "      <td>Documentary</td>\n",
       "      <td>...</td>\n",
       "      <td>NaN</td>\n",
       "      <td>NaN</td>\n",
       "      <td>NaN</td>\n",
       "      <td>NaN</td>\n",
       "      <td>NaN</td>\n",
       "      <td>NaN</td>\n",
       "      <td>12.0</td>\n",
       "      <td>7.1</td>\n",
       "      <td>NaN</td>\n",
       "      <td>0</td>\n",
       "    </tr>\n",
       "  </tbody>\n",
       "</table>\n",
       "<p>5 rows × 28 columns</p>\n",
       "</div>"
      ],
      "text/plain": [
       "   color      director_name  num_critic_for_reviews  duration  \\\n",
       "0  Color      James Cameron                   723.0     178.0   \n",
       "1  Color     Gore Verbinski                   302.0     169.0   \n",
       "2  Color         Sam Mendes                   602.0     148.0   \n",
       "3  Color  Christopher Nolan                   813.0     164.0   \n",
       "4    NaN        Doug Walker                     NaN       NaN   \n",
       "\n",
       "   director_facebook_likes  actor_3_facebook_likes      actor_2_name  \\\n",
       "0                      0.0                   855.0  Joel David Moore   \n",
       "1                    563.0                  1000.0     Orlando Bloom   \n",
       "2                      0.0                   161.0      Rory Kinnear   \n",
       "3                  22000.0                 23000.0    Christian Bale   \n",
       "4                    131.0                     NaN        Rob Walker   \n",
       "\n",
       "   actor_1_facebook_likes        gross                           genres  ...  \\\n",
       "0                  1000.0  760505847.0  Action|Adventure|Fantasy|Sci-Fi  ...   \n",
       "1                 40000.0  309404152.0         Action|Adventure|Fantasy  ...   \n",
       "2                 11000.0  200074175.0        Action|Adventure|Thriller  ...   \n",
       "3                 27000.0  448130642.0                  Action|Thriller  ...   \n",
       "4                   131.0          NaN                      Documentary  ...   \n",
       "\n",
       "  num_user_for_reviews language  country  content_rating       budget  \\\n",
       "0               3054.0  English      USA           PG-13  237000000.0   \n",
       "1               1238.0  English      USA           PG-13  300000000.0   \n",
       "2                994.0  English       UK           PG-13  245000000.0   \n",
       "3               2701.0  English      USA           PG-13  250000000.0   \n",
       "4                  NaN      NaN      NaN             NaN          NaN   \n",
       "\n",
       "   title_year actor_2_facebook_likes imdb_score  aspect_ratio  \\\n",
       "0      2009.0                  936.0        7.9          1.78   \n",
       "1      2007.0                 5000.0        7.1          2.35   \n",
       "2      2015.0                  393.0        6.8          2.35   \n",
       "3      2012.0                23000.0        8.5          2.35   \n",
       "4         NaN                   12.0        7.1           NaN   \n",
       "\n",
       "  movie_facebook_likes  \n",
       "0                33000  \n",
       "1                    0  \n",
       "2                85000  \n",
       "3               164000  \n",
       "4                    0  \n",
       "\n",
       "[5 rows x 28 columns]"
      ]
     },
     "execution_count": 3,
     "metadata": {},
     "output_type": "execute_result"
    }
   ],
   "source": [
    "df.head()"
   ]
  },
  {
   "cell_type": "code",
   "execution_count": 5,
   "metadata": {},
   "outputs": [
    {
     "name": "stdout",
     "output_type": "stream",
     "text": [
      "shape of movie data = (5043, 28)\n",
      "features = Index(['color', 'director_name', 'num_critic_for_reviews', 'duration',\n",
      "       'director_facebook_likes', 'actor_3_facebook_likes', 'actor_2_name',\n",
      "       'actor_1_facebook_likes', 'gross', 'genres', 'actor_1_name',\n",
      "       'movie_title', 'num_voted_users', 'cast_total_facebook_likes',\n",
      "       'actor_3_name', 'facenumber_in_poster', 'plot_keywords',\n",
      "       'movie_imdb_link', 'num_user_for_reviews', 'language', 'country',\n",
      "       'content_rating', 'budget', 'title_year', 'actor_2_facebook_likes',\n",
      "       'imdb_score', 'aspect_ratio', 'movie_facebook_likes'],\n",
      "      dtype='object')\n"
     ]
    }
   ],
   "source": [
    "print('shape of movie data =',df.shape)\n",
    "print('features =',df.columns)"
   ]
  },
  {
   "cell_type": "code",
   "execution_count": 6,
   "metadata": {},
   "outputs": [
    {
     "name": "stdout",
     "output_type": "stream",
     "text": [
      "<class 'pandas.core.frame.DataFrame'>\n",
      "RangeIndex: 5043 entries, 0 to 5042\n",
      "Data columns (total 28 columns):\n",
      "color                        5024 non-null object\n",
      "director_name                4939 non-null object\n",
      "num_critic_for_reviews       4993 non-null float64\n",
      "duration                     5028 non-null float64\n",
      "director_facebook_likes      4939 non-null float64\n",
      "actor_3_facebook_likes       5020 non-null float64\n",
      "actor_2_name                 5030 non-null object\n",
      "actor_1_facebook_likes       5036 non-null float64\n",
      "gross                        4159 non-null float64\n",
      "genres                       5043 non-null object\n",
      "actor_1_name                 5036 non-null object\n",
      "movie_title                  5043 non-null object\n",
      "num_voted_users              5043 non-null int64\n",
      "cast_total_facebook_likes    5043 non-null int64\n",
      "actor_3_name                 5020 non-null object\n",
      "facenumber_in_poster         5030 non-null float64\n",
      "plot_keywords                4890 non-null object\n",
      "movie_imdb_link              5043 non-null object\n",
      "num_user_for_reviews         5022 non-null float64\n",
      "language                     5031 non-null object\n",
      "country                      5038 non-null object\n",
      "content_rating               4740 non-null object\n",
      "budget                       4551 non-null float64\n",
      "title_year                   4935 non-null float64\n",
      "actor_2_facebook_likes       5030 non-null float64\n",
      "imdb_score                   5043 non-null float64\n",
      "aspect_ratio                 4714 non-null float64\n",
      "movie_facebook_likes         5043 non-null int64\n",
      "dtypes: float64(13), int64(3), object(12)\n",
      "memory usage: 1.1+ MB\n"
     ]
    }
   ],
   "source": [
    "df.info()"
   ]
  },
  {
   "cell_type": "code",
   "execution_count": 8,
   "metadata": {},
   "outputs": [
    {
     "data": {
      "text/plain": [
       "Counter({dtype('O'): 12, dtype('float64'): 13, dtype('int64'): 3})"
      ]
     },
     "execution_count": 8,
     "metadata": {},
     "output_type": "execute_result"
    }
   ],
   "source": [
    "from collections import Counter\n",
    "Counter(df.dtypes)"
   ]
  },
  {
   "cell_type": "code",
   "execution_count": 9,
   "metadata": {},
   "outputs": [
    {
     "data": {
      "text/html": [
       "<div>\n",
       "<style scoped>\n",
       "    .dataframe tbody tr th:only-of-type {\n",
       "        vertical-align: middle;\n",
       "    }\n",
       "\n",
       "    .dataframe tbody tr th {\n",
       "        vertical-align: top;\n",
       "    }\n",
       "\n",
       "    .dataframe thead th {\n",
       "        text-align: right;\n",
       "    }\n",
       "</style>\n",
       "<table border=\"1\" class=\"dataframe\">\n",
       "  <thead>\n",
       "    <tr style=\"text-align: right;\">\n",
       "      <th></th>\n",
       "      <th>num_critic_for_reviews</th>\n",
       "      <th>duration</th>\n",
       "      <th>director_facebook_likes</th>\n",
       "      <th>actor_3_facebook_likes</th>\n",
       "      <th>actor_1_facebook_likes</th>\n",
       "      <th>gross</th>\n",
       "      <th>num_voted_users</th>\n",
       "      <th>cast_total_facebook_likes</th>\n",
       "      <th>facenumber_in_poster</th>\n",
       "      <th>num_user_for_reviews</th>\n",
       "      <th>budget</th>\n",
       "      <th>title_year</th>\n",
       "      <th>actor_2_facebook_likes</th>\n",
       "      <th>imdb_score</th>\n",
       "      <th>aspect_ratio</th>\n",
       "      <th>movie_facebook_likes</th>\n",
       "    </tr>\n",
       "  </thead>\n",
       "  <tbody>\n",
       "    <tr>\n",
       "      <td>count</td>\n",
       "      <td>4993.000000</td>\n",
       "      <td>5028.000000</td>\n",
       "      <td>4939.000000</td>\n",
       "      <td>5020.000000</td>\n",
       "      <td>5036.000000</td>\n",
       "      <td>4.159000e+03</td>\n",
       "      <td>5.043000e+03</td>\n",
       "      <td>5043.000000</td>\n",
       "      <td>5030.000000</td>\n",
       "      <td>5022.000000</td>\n",
       "      <td>4.551000e+03</td>\n",
       "      <td>4935.000000</td>\n",
       "      <td>5030.000000</td>\n",
       "      <td>5043.000000</td>\n",
       "      <td>4714.000000</td>\n",
       "      <td>5043.000000</td>\n",
       "    </tr>\n",
       "    <tr>\n",
       "      <td>mean</td>\n",
       "      <td>140.194272</td>\n",
       "      <td>107.201074</td>\n",
       "      <td>686.509212</td>\n",
       "      <td>645.009761</td>\n",
       "      <td>6560.047061</td>\n",
       "      <td>4.846841e+07</td>\n",
       "      <td>8.366816e+04</td>\n",
       "      <td>9699.063851</td>\n",
       "      <td>1.371173</td>\n",
       "      <td>272.770808</td>\n",
       "      <td>3.975262e+07</td>\n",
       "      <td>2002.470517</td>\n",
       "      <td>1651.754473</td>\n",
       "      <td>6.442138</td>\n",
       "      <td>2.220403</td>\n",
       "      <td>7525.964505</td>\n",
       "    </tr>\n",
       "    <tr>\n",
       "      <td>std</td>\n",
       "      <td>121.601675</td>\n",
       "      <td>25.197441</td>\n",
       "      <td>2813.328607</td>\n",
       "      <td>1665.041728</td>\n",
       "      <td>15020.759120</td>\n",
       "      <td>6.845299e+07</td>\n",
       "      <td>1.384853e+05</td>\n",
       "      <td>18163.799124</td>\n",
       "      <td>2.013576</td>\n",
       "      <td>377.982886</td>\n",
       "      <td>2.061149e+08</td>\n",
       "      <td>12.474599</td>\n",
       "      <td>4042.438863</td>\n",
       "      <td>1.125116</td>\n",
       "      <td>1.385113</td>\n",
       "      <td>19320.445110</td>\n",
       "    </tr>\n",
       "    <tr>\n",
       "      <td>min</td>\n",
       "      <td>1.000000</td>\n",
       "      <td>7.000000</td>\n",
       "      <td>0.000000</td>\n",
       "      <td>0.000000</td>\n",
       "      <td>0.000000</td>\n",
       "      <td>1.620000e+02</td>\n",
       "      <td>5.000000e+00</td>\n",
       "      <td>0.000000</td>\n",
       "      <td>0.000000</td>\n",
       "      <td>1.000000</td>\n",
       "      <td>2.180000e+02</td>\n",
       "      <td>1916.000000</td>\n",
       "      <td>0.000000</td>\n",
       "      <td>1.600000</td>\n",
       "      <td>1.180000</td>\n",
       "      <td>0.000000</td>\n",
       "    </tr>\n",
       "    <tr>\n",
       "      <td>25%</td>\n",
       "      <td>50.000000</td>\n",
       "      <td>93.000000</td>\n",
       "      <td>7.000000</td>\n",
       "      <td>133.000000</td>\n",
       "      <td>614.000000</td>\n",
       "      <td>5.340988e+06</td>\n",
       "      <td>8.593500e+03</td>\n",
       "      <td>1411.000000</td>\n",
       "      <td>0.000000</td>\n",
       "      <td>65.000000</td>\n",
       "      <td>6.000000e+06</td>\n",
       "      <td>1999.000000</td>\n",
       "      <td>281.000000</td>\n",
       "      <td>5.800000</td>\n",
       "      <td>1.850000</td>\n",
       "      <td>0.000000</td>\n",
       "    </tr>\n",
       "    <tr>\n",
       "      <td>50%</td>\n",
       "      <td>110.000000</td>\n",
       "      <td>103.000000</td>\n",
       "      <td>49.000000</td>\n",
       "      <td>371.500000</td>\n",
       "      <td>988.000000</td>\n",
       "      <td>2.551750e+07</td>\n",
       "      <td>3.435900e+04</td>\n",
       "      <td>3090.000000</td>\n",
       "      <td>1.000000</td>\n",
       "      <td>156.000000</td>\n",
       "      <td>2.000000e+07</td>\n",
       "      <td>2005.000000</td>\n",
       "      <td>595.000000</td>\n",
       "      <td>6.600000</td>\n",
       "      <td>2.350000</td>\n",
       "      <td>166.000000</td>\n",
       "    </tr>\n",
       "    <tr>\n",
       "      <td>75%</td>\n",
       "      <td>195.000000</td>\n",
       "      <td>118.000000</td>\n",
       "      <td>194.500000</td>\n",
       "      <td>636.000000</td>\n",
       "      <td>11000.000000</td>\n",
       "      <td>6.230944e+07</td>\n",
       "      <td>9.630900e+04</td>\n",
       "      <td>13756.500000</td>\n",
       "      <td>2.000000</td>\n",
       "      <td>326.000000</td>\n",
       "      <td>4.500000e+07</td>\n",
       "      <td>2011.000000</td>\n",
       "      <td>918.000000</td>\n",
       "      <td>7.200000</td>\n",
       "      <td>2.350000</td>\n",
       "      <td>3000.000000</td>\n",
       "    </tr>\n",
       "    <tr>\n",
       "      <td>max</td>\n",
       "      <td>813.000000</td>\n",
       "      <td>511.000000</td>\n",
       "      <td>23000.000000</td>\n",
       "      <td>23000.000000</td>\n",
       "      <td>640000.000000</td>\n",
       "      <td>7.605058e+08</td>\n",
       "      <td>1.689764e+06</td>\n",
       "      <td>656730.000000</td>\n",
       "      <td>43.000000</td>\n",
       "      <td>5060.000000</td>\n",
       "      <td>1.221550e+10</td>\n",
       "      <td>2016.000000</td>\n",
       "      <td>137000.000000</td>\n",
       "      <td>9.500000</td>\n",
       "      <td>16.000000</td>\n",
       "      <td>349000.000000</td>\n",
       "    </tr>\n",
       "  </tbody>\n",
       "</table>\n",
       "</div>"
      ],
      "text/plain": [
       "       num_critic_for_reviews     duration  director_facebook_likes  \\\n",
       "count             4993.000000  5028.000000              4939.000000   \n",
       "mean               140.194272   107.201074               686.509212   \n",
       "std                121.601675    25.197441              2813.328607   \n",
       "min                  1.000000     7.000000                 0.000000   \n",
       "25%                 50.000000    93.000000                 7.000000   \n",
       "50%                110.000000   103.000000                49.000000   \n",
       "75%                195.000000   118.000000               194.500000   \n",
       "max                813.000000   511.000000             23000.000000   \n",
       "\n",
       "       actor_3_facebook_likes  actor_1_facebook_likes         gross  \\\n",
       "count             5020.000000             5036.000000  4.159000e+03   \n",
       "mean               645.009761             6560.047061  4.846841e+07   \n",
       "std               1665.041728            15020.759120  6.845299e+07   \n",
       "min                  0.000000                0.000000  1.620000e+02   \n",
       "25%                133.000000              614.000000  5.340988e+06   \n",
       "50%                371.500000              988.000000  2.551750e+07   \n",
       "75%                636.000000            11000.000000  6.230944e+07   \n",
       "max              23000.000000           640000.000000  7.605058e+08   \n",
       "\n",
       "       num_voted_users  cast_total_facebook_likes  facenumber_in_poster  \\\n",
       "count     5.043000e+03                5043.000000           5030.000000   \n",
       "mean      8.366816e+04                9699.063851              1.371173   \n",
       "std       1.384853e+05               18163.799124              2.013576   \n",
       "min       5.000000e+00                   0.000000              0.000000   \n",
       "25%       8.593500e+03                1411.000000              0.000000   \n",
       "50%       3.435900e+04                3090.000000              1.000000   \n",
       "75%       9.630900e+04               13756.500000              2.000000   \n",
       "max       1.689764e+06              656730.000000             43.000000   \n",
       "\n",
       "       num_user_for_reviews        budget   title_year  \\\n",
       "count           5022.000000  4.551000e+03  4935.000000   \n",
       "mean             272.770808  3.975262e+07  2002.470517   \n",
       "std              377.982886  2.061149e+08    12.474599   \n",
       "min                1.000000  2.180000e+02  1916.000000   \n",
       "25%               65.000000  6.000000e+06  1999.000000   \n",
       "50%              156.000000  2.000000e+07  2005.000000   \n",
       "75%              326.000000  4.500000e+07  2011.000000   \n",
       "max             5060.000000  1.221550e+10  2016.000000   \n",
       "\n",
       "       actor_2_facebook_likes   imdb_score  aspect_ratio  movie_facebook_likes  \n",
       "count             5030.000000  5043.000000   4714.000000           5043.000000  \n",
       "mean              1651.754473     6.442138      2.220403           7525.964505  \n",
       "std               4042.438863     1.125116      1.385113          19320.445110  \n",
       "min                  0.000000     1.600000      1.180000              0.000000  \n",
       "25%                281.000000     5.800000      1.850000              0.000000  \n",
       "50%                595.000000     6.600000      2.350000            166.000000  \n",
       "75%                918.000000     7.200000      2.350000           3000.000000  \n",
       "max             137000.000000     9.500000     16.000000         349000.000000  "
      ]
     },
     "execution_count": 9,
     "metadata": {},
     "output_type": "execute_result"
    }
   ],
   "source": [
    "df.describe()"
   ]
  },
  {
   "cell_type": "code",
   "execution_count": 11,
   "metadata": {},
   "outputs": [
    {
     "data": {
      "text/plain": [
       "color                         19\n",
       "director_name                104\n",
       "num_critic_for_reviews        50\n",
       "duration                      15\n",
       "director_facebook_likes      104\n",
       "actor_3_facebook_likes        23\n",
       "actor_2_name                  13\n",
       "actor_1_facebook_likes         7\n",
       "gross                        884\n",
       "genres                         0\n",
       "actor_1_name                   7\n",
       "movie_title                    0\n",
       "num_voted_users                0\n",
       "cast_total_facebook_likes      0\n",
       "actor_3_name                  23\n",
       "facenumber_in_poster          13\n",
       "plot_keywords                153\n",
       "movie_imdb_link                0\n",
       "num_user_for_reviews          21\n",
       "language                      12\n",
       "country                        5\n",
       "content_rating               303\n",
       "budget                       492\n",
       "title_year                   108\n",
       "actor_2_facebook_likes        13\n",
       "imdb_score                     0\n",
       "aspect_ratio                 329\n",
       "movie_facebook_likes           0\n",
       "dtype: int64"
      ]
     },
     "execution_count": 11,
     "metadata": {},
     "output_type": "execute_result"
    }
   ],
   "source": [
    "df.isnull().sum()"
   ]
  },
  {
   "cell_type": "code",
   "execution_count": 12,
   "metadata": {},
   "outputs": [
    {
     "data": {
      "text/plain": [
       "True"
      ]
     },
     "execution_count": 12,
     "metadata": {},
     "output_type": "execute_result"
    }
   ],
   "source": [
    "df.isnull().values.any() "
   ]
  },
  {
   "cell_type": "code",
   "execution_count": 15,
   "metadata": {},
   "outputs": [
    {
     "data": {
      "text/plain": [
       "2698"
      ]
     },
     "execution_count": 15,
     "metadata": {},
     "output_type": "execute_result"
    }
   ],
   "source": [
    "df.isnull().sum().sum()"
   ]
  },
  {
   "cell_type": "code",
   "execution_count": 17,
   "metadata": {},
   "outputs": [],
   "source": [
    "#clean_movies_df = movies_df.dropna(how='any')\n",
    "df = df.dropna(how='any')"
   ]
  },
  {
   "cell_type": "code",
   "execution_count": 19,
   "metadata": {},
   "outputs": [
    {
     "data": {
      "text/plain": [
       "(3756, 28)"
      ]
     },
     "execution_count": 19,
     "metadata": {},
     "output_type": "execute_result"
    }
   ],
   "source": [
    "df.shape   # with drooped null values"
   ]
  },
  {
   "cell_type": "code",
   "execution_count": 20,
   "metadata": {},
   "outputs": [],
   "source": [
    "df_raw=pd.read_csv(path)"
   ]
  },
  {
   "cell_type": "code",
   "execution_count": 22,
   "metadata": {},
   "outputs": [
    {
     "data": {
      "text/plain": [
       "(5043, 28)"
      ]
     },
     "execution_count": 22,
     "metadata": {},
     "output_type": "execute_result"
    }
   ],
   "source": [
    "df_raw.shape"
   ]
  },
  {
   "cell_type": "code",
   "execution_count": 24,
   "metadata": {},
   "outputs": [],
   "source": [
    "#df.isna().any()"
   ]
  },
  {
   "cell_type": "code",
   "execution_count": 25,
   "metadata": {},
   "outputs": [],
   "source": [
    "#for filling up missing values in all columns  \n",
    "df_raw.fillna(value=0, inplace=True)"
   ]
  },
  {
   "cell_type": "code",
   "execution_count": 27,
   "metadata": {},
   "outputs": [
    {
     "data": {
      "text/plain": [
       "0"
      ]
     },
     "execution_count": 27,
     "metadata": {},
     "output_type": "execute_result"
    }
   ],
   "source": [
    "df_raw.isna().sum().sum()"
   ]
  },
  {
   "cell_type": "code",
   "execution_count": 28,
   "metadata": {},
   "outputs": [],
   "source": [
    "# for some specfific columns we can just choose select those columns \n",
    "# df[['gross', 'budget']]=f[['gross', 'budget']].fillna(value=0)\n",
    "# filling with the mean\n",
    "#df['budget'].fillna(df[budget].mean(), inplace=True) \n"
   ]
  },
  {
   "cell_type": "code",
   "execution_count": 29,
   "metadata": {},
   "outputs": [
    {
     "name": "stdout",
     "output_type": "stream",
     "text": [
      "number of duplicate rows:  (33, 28)\n"
     ]
    }
   ],
   "source": [
    "duplicate_rows_df = df[df.duplicated()]\n",
    "print (\"number of duplicate rows: \", duplicate_rows_df.shape)"
   ]
  },
  {
   "cell_type": "code",
   "execution_count": 32,
   "metadata": {},
   "outputs": [
    {
     "data": {
      "text/html": [
       "<div>\n",
       "<style scoped>\n",
       "    .dataframe tbody tr th:only-of-type {\n",
       "        vertical-align: middle;\n",
       "    }\n",
       "\n",
       "    .dataframe tbody tr th {\n",
       "        vertical-align: top;\n",
       "    }\n",
       "\n",
       "    .dataframe thead th {\n",
       "        text-align: right;\n",
       "    }\n",
       "</style>\n",
       "<table border=\"1\" class=\"dataframe\">\n",
       "  <thead>\n",
       "    <tr style=\"text-align: right;\">\n",
       "      <th></th>\n",
       "      <th>color</th>\n",
       "      <th>director_name</th>\n",
       "      <th>num_critic_for_reviews</th>\n",
       "      <th>duration</th>\n",
       "      <th>director_facebook_likes</th>\n",
       "      <th>actor_3_facebook_likes</th>\n",
       "      <th>actor_2_name</th>\n",
       "      <th>actor_1_facebook_likes</th>\n",
       "      <th>gross</th>\n",
       "      <th>genres</th>\n",
       "      <th>...</th>\n",
       "      <th>num_user_for_reviews</th>\n",
       "      <th>language</th>\n",
       "      <th>country</th>\n",
       "      <th>content_rating</th>\n",
       "      <th>budget</th>\n",
       "      <th>title_year</th>\n",
       "      <th>actor_2_facebook_likes</th>\n",
       "      <th>imdb_score</th>\n",
       "      <th>aspect_ratio</th>\n",
       "      <th>movie_facebook_likes</th>\n",
       "    </tr>\n",
       "  </thead>\n",
       "  <tbody>\n",
       "    <tr>\n",
       "      <td>137</td>\n",
       "      <td>Color</td>\n",
       "      <td>David Yates</td>\n",
       "      <td>248.0</td>\n",
       "      <td>110.0</td>\n",
       "      <td>282.0</td>\n",
       "      <td>103.0</td>\n",
       "      <td>Alexander Skarsgård</td>\n",
       "      <td>11000.0</td>\n",
       "      <td>124051759.0</td>\n",
       "      <td>Action|Adventure|Drama|Romance</td>\n",
       "      <td>...</td>\n",
       "      <td>239.0</td>\n",
       "      <td>English</td>\n",
       "      <td>USA</td>\n",
       "      <td>PG-13</td>\n",
       "      <td>180000000.0</td>\n",
       "      <td>2016.0</td>\n",
       "      <td>10000.0</td>\n",
       "      <td>6.6</td>\n",
       "      <td>2.35</td>\n",
       "      <td>29000</td>\n",
       "    </tr>\n",
       "    <tr>\n",
       "      <td>187</td>\n",
       "      <td>Color</td>\n",
       "      <td>Bill Condon</td>\n",
       "      <td>322.0</td>\n",
       "      <td>115.0</td>\n",
       "      <td>386.0</td>\n",
       "      <td>12000.0</td>\n",
       "      <td>Kristen Stewart</td>\n",
       "      <td>21000.0</td>\n",
       "      <td>292298923.0</td>\n",
       "      <td>Adventure|Drama|Fantasy|Romance</td>\n",
       "      <td>...</td>\n",
       "      <td>329.0</td>\n",
       "      <td>English</td>\n",
       "      <td>USA</td>\n",
       "      <td>PG-13</td>\n",
       "      <td>120000000.0</td>\n",
       "      <td>2012.0</td>\n",
       "      <td>17000.0</td>\n",
       "      <td>5.5</td>\n",
       "      <td>2.35</td>\n",
       "      <td>65000</td>\n",
       "    </tr>\n",
       "    <tr>\n",
       "      <td>303</td>\n",
       "      <td>Color</td>\n",
       "      <td>Joe Wright</td>\n",
       "      <td>256.0</td>\n",
       "      <td>111.0</td>\n",
       "      <td>456.0</td>\n",
       "      <td>394.0</td>\n",
       "      <td>Cara Delevingne</td>\n",
       "      <td>20000.0</td>\n",
       "      <td>34964818.0</td>\n",
       "      <td>Adventure|Family|Fantasy</td>\n",
       "      <td>...</td>\n",
       "      <td>186.0</td>\n",
       "      <td>English</td>\n",
       "      <td>USA</td>\n",
       "      <td>PG</td>\n",
       "      <td>150000000.0</td>\n",
       "      <td>2015.0</td>\n",
       "      <td>548.0</td>\n",
       "      <td>5.8</td>\n",
       "      <td>2.35</td>\n",
       "      <td>24000</td>\n",
       "    </tr>\n",
       "    <tr>\n",
       "      <td>389</td>\n",
       "      <td>Color</td>\n",
       "      <td>Josh Trank</td>\n",
       "      <td>369.0</td>\n",
       "      <td>100.0</td>\n",
       "      <td>128.0</td>\n",
       "      <td>78.0</td>\n",
       "      <td>Reg E. Cathey</td>\n",
       "      <td>596.0</td>\n",
       "      <td>56114221.0</td>\n",
       "      <td>Action|Adventure|Sci-Fi</td>\n",
       "      <td>...</td>\n",
       "      <td>695.0</td>\n",
       "      <td>English</td>\n",
       "      <td>USA</td>\n",
       "      <td>PG-13</td>\n",
       "      <td>120000000.0</td>\n",
       "      <td>2015.0</td>\n",
       "      <td>360.0</td>\n",
       "      <td>4.3</td>\n",
       "      <td>2.35</td>\n",
       "      <td>41000</td>\n",
       "    </tr>\n",
       "  </tbody>\n",
       "</table>\n",
       "<p>4 rows × 28 columns</p>\n",
       "</div>"
      ],
      "text/plain": [
       "     color director_name  num_critic_for_reviews  duration  \\\n",
       "137  Color   David Yates                   248.0     110.0   \n",
       "187  Color   Bill Condon                   322.0     115.0   \n",
       "303  Color    Joe Wright                   256.0     111.0   \n",
       "389  Color    Josh Trank                   369.0     100.0   \n",
       "\n",
       "     director_facebook_likes  actor_3_facebook_likes         actor_2_name  \\\n",
       "137                    282.0                   103.0  Alexander Skarsgård   \n",
       "187                    386.0                 12000.0      Kristen Stewart   \n",
       "303                    456.0                   394.0      Cara Delevingne   \n",
       "389                    128.0                    78.0        Reg E. Cathey   \n",
       "\n",
       "     actor_1_facebook_likes        gross                           genres  \\\n",
       "137                 11000.0  124051759.0   Action|Adventure|Drama|Romance   \n",
       "187                 21000.0  292298923.0  Adventure|Drama|Fantasy|Romance   \n",
       "303                 20000.0   34964818.0         Adventure|Family|Fantasy   \n",
       "389                   596.0   56114221.0          Action|Adventure|Sci-Fi   \n",
       "\n",
       "     ... num_user_for_reviews language  country  content_rating       budget  \\\n",
       "137  ...                239.0  English      USA           PG-13  180000000.0   \n",
       "187  ...                329.0  English      USA           PG-13  120000000.0   \n",
       "303  ...                186.0  English      USA              PG  150000000.0   \n",
       "389  ...                695.0  English      USA           PG-13  120000000.0   \n",
       "\n",
       "     title_year actor_2_facebook_likes imdb_score  aspect_ratio  \\\n",
       "137      2016.0                10000.0        6.6          2.35   \n",
       "187      2012.0                17000.0        5.5          2.35   \n",
       "303      2015.0                  548.0        5.8          2.35   \n",
       "389      2015.0                  360.0        4.3          2.35   \n",
       "\n",
       "    movie_facebook_likes  \n",
       "137                29000  \n",
       "187                65000  \n",
       "303                24000  \n",
       "389                41000  \n",
       "\n",
       "[4 rows x 28 columns]"
      ]
     },
     "execution_count": 32,
     "metadata": {},
     "output_type": "execute_result"
    }
   ],
   "source": [
    "duplicate_rows_df.head(4)\n"
   ]
  },
  {
   "cell_type": "code",
   "execution_count": 35,
   "metadata": {},
   "outputs": [
    {
     "data": {
      "text/plain": [
       "0    http://www.imdb.com/title/tt0499549/?ref_=fn_t...\n",
       "1    http://www.imdb.com/title/tt0449088/?ref_=fn_t...\n",
       "2    http://www.imdb.com/title/tt2379713/?ref_=fn_t...\n",
       "Name: movie_imdb_link, dtype: object"
      ]
     },
     "execution_count": 35,
     "metadata": {},
     "output_type": "execute_result"
    }
   ],
   "source": [
    "df['movie_imdb_link'].head(3)"
   ]
  },
  {
   "cell_type": "code",
   "execution_count": 36,
   "metadata": {},
   "outputs": [],
   "source": [
    "duplicate_rows_df_imdb_link = df[df.duplicated(['movie_imdb_link'])]"
   ]
  },
  {
   "cell_type": "code",
   "execution_count": 37,
   "metadata": {},
   "outputs": [
    {
     "data": {
      "text/html": [
       "<div>\n",
       "<style scoped>\n",
       "    .dataframe tbody tr th:only-of-type {\n",
       "        vertical-align: middle;\n",
       "    }\n",
       "\n",
       "    .dataframe tbody tr th {\n",
       "        vertical-align: top;\n",
       "    }\n",
       "\n",
       "    .dataframe thead th {\n",
       "        text-align: right;\n",
       "    }\n",
       "</style>\n",
       "<table border=\"1\" class=\"dataframe\">\n",
       "  <thead>\n",
       "    <tr style=\"text-align: right;\">\n",
       "      <th></th>\n",
       "      <th>color</th>\n",
       "      <th>director_name</th>\n",
       "      <th>num_critic_for_reviews</th>\n",
       "      <th>duration</th>\n",
       "      <th>director_facebook_likes</th>\n",
       "      <th>actor_3_facebook_likes</th>\n",
       "      <th>actor_2_name</th>\n",
       "      <th>actor_1_facebook_likes</th>\n",
       "      <th>gross</th>\n",
       "      <th>genres</th>\n",
       "      <th>...</th>\n",
       "      <th>num_user_for_reviews</th>\n",
       "      <th>language</th>\n",
       "      <th>country</th>\n",
       "      <th>content_rating</th>\n",
       "      <th>budget</th>\n",
       "      <th>title_year</th>\n",
       "      <th>actor_2_facebook_likes</th>\n",
       "      <th>imdb_score</th>\n",
       "      <th>aspect_ratio</th>\n",
       "      <th>movie_facebook_likes</th>\n",
       "    </tr>\n",
       "  </thead>\n",
       "  <tbody>\n",
       "    <tr>\n",
       "      <td>137</td>\n",
       "      <td>Color</td>\n",
       "      <td>David Yates</td>\n",
       "      <td>248.0</td>\n",
       "      <td>110.0</td>\n",
       "      <td>282.0</td>\n",
       "      <td>103.0</td>\n",
       "      <td>Alexander Skarsgård</td>\n",
       "      <td>11000.0</td>\n",
       "      <td>124051759.0</td>\n",
       "      <td>Action|Adventure|Drama|Romance</td>\n",
       "      <td>...</td>\n",
       "      <td>239.0</td>\n",
       "      <td>English</td>\n",
       "      <td>USA</td>\n",
       "      <td>PG-13</td>\n",
       "      <td>180000000.0</td>\n",
       "      <td>2016.0</td>\n",
       "      <td>10000.0</td>\n",
       "      <td>6.6</td>\n",
       "      <td>2.35</td>\n",
       "      <td>29000</td>\n",
       "    </tr>\n",
       "    <tr>\n",
       "      <td>187</td>\n",
       "      <td>Color</td>\n",
       "      <td>Bill Condon</td>\n",
       "      <td>322.0</td>\n",
       "      <td>115.0</td>\n",
       "      <td>386.0</td>\n",
       "      <td>12000.0</td>\n",
       "      <td>Kristen Stewart</td>\n",
       "      <td>21000.0</td>\n",
       "      <td>292298923.0</td>\n",
       "      <td>Adventure|Drama|Fantasy|Romance</td>\n",
       "      <td>...</td>\n",
       "      <td>329.0</td>\n",
       "      <td>English</td>\n",
       "      <td>USA</td>\n",
       "      <td>PG-13</td>\n",
       "      <td>120000000.0</td>\n",
       "      <td>2012.0</td>\n",
       "      <td>17000.0</td>\n",
       "      <td>5.5</td>\n",
       "      <td>2.35</td>\n",
       "      <td>65000</td>\n",
       "    </tr>\n",
       "    <tr>\n",
       "      <td>303</td>\n",
       "      <td>Color</td>\n",
       "      <td>Joe Wright</td>\n",
       "      <td>256.0</td>\n",
       "      <td>111.0</td>\n",
       "      <td>456.0</td>\n",
       "      <td>394.0</td>\n",
       "      <td>Cara Delevingne</td>\n",
       "      <td>20000.0</td>\n",
       "      <td>34964818.0</td>\n",
       "      <td>Adventure|Family|Fantasy</td>\n",
       "      <td>...</td>\n",
       "      <td>186.0</td>\n",
       "      <td>English</td>\n",
       "      <td>USA</td>\n",
       "      <td>PG</td>\n",
       "      <td>150000000.0</td>\n",
       "      <td>2015.0</td>\n",
       "      <td>548.0</td>\n",
       "      <td>5.8</td>\n",
       "      <td>2.35</td>\n",
       "      <td>24000</td>\n",
       "    </tr>\n",
       "  </tbody>\n",
       "</table>\n",
       "<p>3 rows × 28 columns</p>\n",
       "</div>"
      ],
      "text/plain": [
       "     color director_name  num_critic_for_reviews  duration  \\\n",
       "137  Color   David Yates                   248.0     110.0   \n",
       "187  Color   Bill Condon                   322.0     115.0   \n",
       "303  Color    Joe Wright                   256.0     111.0   \n",
       "\n",
       "     director_facebook_likes  actor_3_facebook_likes         actor_2_name  \\\n",
       "137                    282.0                   103.0  Alexander Skarsgård   \n",
       "187                    386.0                 12000.0      Kristen Stewart   \n",
       "303                    456.0                   394.0      Cara Delevingne   \n",
       "\n",
       "     actor_1_facebook_likes        gross                           genres  \\\n",
       "137                 11000.0  124051759.0   Action|Adventure|Drama|Romance   \n",
       "187                 21000.0  292298923.0  Adventure|Drama|Fantasy|Romance   \n",
       "303                 20000.0   34964818.0         Adventure|Family|Fantasy   \n",
       "\n",
       "     ... num_user_for_reviews language  country  content_rating       budget  \\\n",
       "137  ...                239.0  English      USA           PG-13  180000000.0   \n",
       "187  ...                329.0  English      USA           PG-13  120000000.0   \n",
       "303  ...                186.0  English      USA              PG  150000000.0   \n",
       "\n",
       "     title_year actor_2_facebook_likes imdb_score  aspect_ratio  \\\n",
       "137      2016.0                10000.0        6.6          2.35   \n",
       "187      2012.0                17000.0        5.5          2.35   \n",
       "303      2015.0                  548.0        5.8          2.35   \n",
       "\n",
       "    movie_facebook_likes  \n",
       "137                29000  \n",
       "187                65000  \n",
       "303                24000  \n",
       "\n",
       "[3 rows x 28 columns]"
      ]
     },
     "execution_count": 37,
     "metadata": {},
     "output_type": "execute_result"
    }
   ],
   "source": [
    "duplicate_rows_df_imdb_link.head(3)"
   ]
  },
  {
   "cell_type": "code",
   "execution_count": 38,
   "metadata": {},
   "outputs": [
    {
     "name": "stdout",
     "output_type": "stream",
     "text": [
      "shape of duplicate dataframe with same imdb link (100, 28)\n"
     ]
    }
   ],
   "source": [
    "print(\"shape of duplicate dataframe with same imdb link\", duplicate_rows_df_imdb_link.shape)"
   ]
  },
  {
   "cell_type": "code",
   "execution_count": 40,
   "metadata": {},
   "outputs": [
    {
     "data": {
      "text/plain": [
       "3656"
      ]
     },
     "execution_count": 40,
     "metadata": {},
     "output_type": "execute_result"
    }
   ],
   "source": [
    "len(df.movie_imdb_link.unique())"
   ]
  },
  {
   "cell_type": "code",
   "execution_count": 42,
   "metadata": {},
   "outputs": [
    {
     "name": "stdout",
     "output_type": "stream",
     "text": [
      "<class 'pandas.core.frame.DataFrame'>\n",
      "(33, 28)\n"
     ]
    }
   ],
   "source": [
    "#select duplicate rows except first occurences, consider all columns  \n",
    "duplicate_rows_df = df[df.duplicated()]\n",
    "print(type(duplicate_rows_df)) # dataframe \n",
    "print(duplicate_rows_df.shape)"
   ]
  },
  {
   "cell_type": "code",
   "execution_count": 45,
   "metadata": {},
   "outputs": [
    {
     "name": "stdout",
     "output_type": "stream",
     "text": [
      "shape of dataframe before dropping duplicates (5043, 28)\n",
      "shape of dataframe after dropping duplicates (4998, 28)\n"
     ]
    }
   ],
   "source": [
    "print(\"shape of dataframe before dropping duplicates\", df_raw.shape)\n",
    "print (\"shape of dataframe after dropping duplicates\", df_raw.drop_duplicates().shape)"
   ]
  },
  {
   "cell_type": "markdown",
   "metadata": {},
   "source": [
    "**discretization or binning**"
   ]
  },
  {
   "cell_type": "code",
   "execution_count": 46,
   "metadata": {},
   "outputs": [
    {
     "name": "stdout",
     "output_type": "stream",
     "text": [
      "6     6.2\n",
      "7     7.8\n",
      "8     7.5\n",
      "9     7.5\n",
      "10    6.9\n",
      "Name: imdb_score, dtype: float64\n",
      "minimum values of all cloumn:\n",
      "color                                                          Black and White\n",
      "director_name                                                  Aaron Schneider\n",
      "num_critic_for_reviews                                                       2\n",
      "duration                                                                    37\n",
      "director_facebook_likes                                                      0\n",
      "actor_3_facebook_likes                                                       0\n",
      "actor_2_name                                                           50 Cent\n",
      "actor_1_facebook_likes                                                       0\n",
      "gross                                                                      162\n",
      "genres                                                                  Action\n",
      "actor_1_name                                                           50 Cent\n",
      "movie_title                                               10 Cloverfield Lane \n",
      "num_voted_users                                                             91\n",
      "cast_total_facebook_likes                                                    0\n",
      "actor_3_name                                                           50 Cent\n",
      "facenumber_in_poster                                                         0\n",
      "plot_keywords                         10 year old|dog|florida|girl|supermarket\n",
      "movie_imdb_link              http://www.imdb.com/title/tt0017136/?ref_=fn_t...\n",
      "num_user_for_reviews                                                         4\n",
      "language                                                            Aboriginal\n",
      "country                                                            Afghanistan\n",
      "content_rating                                                        Approved\n",
      "budget                                                                     218\n",
      "title_year                                                                1927\n",
      "actor_2_facebook_likes                                                       0\n",
      "imdb_score                                                                 1.6\n",
      "aspect_ratio                                                              1.18\n",
      "movie_facebook_likes                                                         0\n",
      "dtype: object\n"
     ]
    }
   ],
   "source": [
    "print(df['imdb_score'][5:10])\n",
    "# check the miminmum value of all columns\n",
    "print (\"minimum values of all cloumn:\",) \n",
    "#print '\\n'\n",
    "print(df.min())"
   ]
  },
  {
   "cell_type": "code",
   "execution_count": 48,
   "metadata": {},
   "outputs": [
    {
     "name": "stdout",
     "output_type": "stream",
     "text": [
      "1937\n"
     ]
    }
   ],
   "source": [
    "print(df['imdb_score'].idxmax())"
   ]
  },
  {
   "cell_type": "code",
   "execution_count": 51,
   "metadata": {},
   "outputs": [
    {
     "name": "stdout",
     "output_type": "stream",
     "text": [
      "The Shawshank Redemption \n",
      "2764           Pretty Woman \n",
      "2766    Crocodile Dundee II \n",
      "Name: movie_title, dtype: object\n",
      "2988\n",
      "       movie_title        budget\n",
      "2986   Two Lovers   1.200000e+07\n",
      "2987  Last Orders   1.200000e+07\n",
      "2988     The Host   1.221550e+10\n",
      "2990     Ravenous   1.200000e+07\n"
     ]
    }
   ],
   "source": [
    "movies_df=df\n",
    "print(movies_df.loc[movies_df['imdb_score'].idxmax(), 'movie_title'])\n",
    "print(movies_df['movie_title'].loc[2764:2767])\n",
    "print(movies_df['budget'].idxmax())\n",
    "print (movies_df[['movie_title','budget']].loc[2986:2990])"
   ]
  },
  {
   "cell_type": "code",
   "execution_count": 52,
   "metadata": {},
   "outputs": [
    {
     "data": {
      "image/png": "[encoded data removed]",
      "text/plain": [
       "<Figure size 720x504 with 1 Axes>"
      ]
     },
     "metadata": {
      "needs_background": "light"
     },
     "output_type": "display_data"
    },
    {
     "data": {
      "image/png": "[encoded data removed]",
      "text/plain": [
       "<Figure size 432x432 with 3 Axes>"
      ]
     },
     "metadata": {
      "needs_background": "light"
     },
     "output_type": "display_data"
    }
   ],
   "source": [
    "# check the distribution of imdb score\n",
    "fig = plt.figure(figsize=(10,7))\n",
    "sns.distplot(movies_df['imdb_score'])\n",
    "plt.xlabel('IMDB Score', fontsize=12)\n",
    "sns.jointplot(x='budget', y='imdb_score', data=movies_df); \n",
    "plt.show()"
   ]
  },
  {
   "cell_type": "code",
   "execution_count": 53,
   "metadata": {},
   "outputs": [
    {
     "name": "stdout",
     "output_type": "stream",
     "text": [
      "                                 movie_title  imdb_score imdb_labels\n",
      "218          How the Grinch Stole Christmas          6.0    moderate\n",
      "219                  The Day After Tomorrow          6.4    moderate\n",
      "220                  Mission: Impossible II          6.1    moderate\n",
      "221                       The Perfect Storm          6.4    moderate\n",
      "222  Fantastic 4: Rise of the Silver Surfer          5.6    moderate\n",
      "223                              Life of Pi          8.0        good\n",
      "224                             Ghost Rider          5.2    moderate\n",
      "225                            Jason Bourne          7.1        good\n",
      "226         Charlie's Angels: Full Throttle          4.8    moderate\n",
      "227                              Prometheus          7.0    moderate\n",
      "228                         Stuart Little 2          5.4    moderate\n"
     ]
    }
   ],
   "source": [
    "# based on the 'imdb_score' we will discritize the movies in 3 categories ['shyte', 'moderate', 'good']\n",
    "# similar with pd.cut method described in McKinney's book\n",
    "op_labels = ['shyttte', 'moderate', 'good']\n",
    "category = [0.,4.,7.,10.]\n",
    "movies_df['imdb_labels'] = pd.cut(movies_df['imdb_score'], labels=op_labels, bins=category, include_lowest=False)\n",
    "print(movies_df[['movie_title', 'imdb_score', 'imdb_labels']][209:220])"
   ]
  },
  {
   "cell_type": "code",
   "execution_count": 60,
   "metadata": {},
   "outputs": [
    {
     "data": {
      "image/png": "[encoded data removed]",
      "text/plain": [
       "<Figure size 432x288 with 1 Axes>"
      ]
     },
     "metadata": {
      "needs_background": "light"
     },
     "output_type": "display_data"
    }
   ],
   "source": [
    "# let's try to plot boxplot with seaborn \n",
    "sns.boxplot(x=df_raw['facenumber_in_poster'], color='lime')\n",
    "plt.xlabel('No. of Actors Featured in Poster', fontsize=14)\n",
    "plt.show()"
   ]
  },
  {
   "cell_type": "code",
   "execution_count": 61,
   "metadata": {},
   "outputs": [
    {
     "name": "stdout",
     "output_type": "stream",
     "text": [
      "min no 0.0\n",
      "max no: index 3468\n",
      "movie_title             500 Days of Summer \n",
      "facenumber_in_poster                     43\n",
      "Name: 3468, dtype: object\n",
      "count    5043.000000\n",
      "mean        1.367638\n",
      "std         2.012180\n",
      "min         0.000000\n",
      "25%         0.000000\n",
      "50%         1.000000\n",
      "75%         2.000000\n",
      "max        43.000000\n",
      "Name: facenumber_in_poster, dtype: float64\n"
     ]
    }
   ],
   "source": [
    "print(\"min no\", df_raw['facenumber_in_poster'].min())\n",
    "print(\"max no: index\", df_raw['facenumber_in_poster'].idxmax())\n",
    "print(df_raw[['movie_title', 'facenumber_in_poster']].iloc[df_raw['facenumber_in_poster'].idxmax()])\n",
    "print(df_raw['facenumber_in_poster'].describe())"
   ]
  },
  {
   "cell_type": "code",
   "execution_count": 62,
   "metadata": {},
   "outputs": [],
   "source": [
    "# budget column is massively varying. so we are in dire need to drop outliers\n",
    "#best option for dropping outliers is to use zscore method and reject all rows in non-object type columns \n",
    "\n"
   ]
  },
  {
   "cell_type": "code",
   "execution_count": 63,
   "metadata": {},
   "outputs": [],
   "source": [
    "movies_df_num = df_raw.select_dtypes(exclude=['object'])"
   ]
  },
  {
   "cell_type": "code",
   "execution_count": 64,
   "metadata": {},
   "outputs": [
    {
     "name": "stdout",
     "output_type": "stream",
     "text": [
      "shape after excluding object columns:  (5043, 16)\n"
     ]
    }
   ],
   "source": [
    "print(\"shape after excluding object columns: \", movies_df_num.shape )\n",
    "#12 object type columns were dropped. "
   ]
  },
  {
   "cell_type": "code",
   "execution_count": 65,
   "metadata": {},
   "outputs": [
    {
     "name": "stdout",
     "output_type": "stream",
     "text": [
      "<class 'pandas.core.frame.DataFrame'>\n"
     ]
    }
   ],
   "source": [
    "#use z score for all columns in the new data frame \n",
    "movies_df_Zscore = movies_df_num[(np.abs(stats.zscore(movies_df_num))<=3).all(axis=1)]\n",
    "#print \"shape after rejecting outliers: \", movies_df_Zscore.shape\n",
    "movies_df_Zscore_usr_rev = movies_df_num[(np.abs(stats.zscore(movies_df_num[['num_user_for_reviews']]))<=3).all(axis=1)]\n",
    "print(type(movies_df_Zscore_usr_rev))"
   ]
  },
  {
   "cell_type": "code",
   "execution_count": 66,
   "metadata": {},
   "outputs": [
    {
     "data": {
      "image/png": "[encoded data removed]",
      "text/plain": [
       "<Figure size 864x576 with 2 Axes>"
      ]
     },
     "metadata": {
      "needs_background": "light"
     },
     "output_type": "display_data"
    }
   ],
   "source": [
    "fig = plt.figure(figsize=(12,8))\n",
    "plt.subplot(1,2,1)\n",
    "sns.boxplot(x=movies_df['num_user_for_reviews'], color='lime')\n",
    "plt.xlabel('No. of Actors Featured in Poster (After Using Z Score)', fontsize=14)\n",
    "plt.subplot(1,2,2)\n",
    "sns.distplot(movies_df_Zscore['num_user_for_reviews'], color='lime')\n",
    "plt.tight_layout()\n",
    "plt.show()"
   ]
  },
  {
   "cell_type": "code",
   "execution_count": 67,
   "metadata": {},
   "outputs": [
    {
     "name": "stdout",
     "output_type": "stream",
     "text": [
      "<class 'pandas.core.frame.DataFrame'>\n",
      "   color   director_name  num_critic_for_reviews  duration  \\\n",
      "1  Color  Gore Verbinski                   302.0     169.0   \n",
      "2  Color      Sam Mendes                   602.0     148.0   \n",
      "5  Color  Andrew Stanton                   462.0     132.0   \n",
      "\n",
      "   director_facebook_likes  actor_3_facebook_likes     actor_2_name  \\\n",
      "1                    563.0                  1000.0    Orlando Bloom   \n",
      "2                      0.0                   161.0     Rory Kinnear   \n",
      "5                    475.0                   530.0  Samantha Morton   \n",
      "\n",
      "   actor_1_facebook_likes        gross                     genres  ...  \\\n",
      "1                 40000.0  309404152.0   Action|Adventure|Fantasy  ...   \n",
      "2                 11000.0  200074175.0  Action|Adventure|Thriller  ...   \n",
      "5                   640.0   73058679.0    Action|Adventure|Sci-Fi  ...   \n",
      "\n",
      "  language country  content_rating       budget title_year  \\\n",
      "1  English     USA           PG-13  300000000.0     2007.0   \n",
      "2  English      UK           PG-13  245000000.0     2015.0   \n",
      "5  English     USA           PG-13  263700000.0     2012.0   \n",
      "\n",
      "   actor_2_facebook_likes imdb_score aspect_ratio  movie_facebook_likes  \\\n",
      "1                  5000.0        7.1         2.35                     0   \n",
      "2                   393.0        6.8         2.35                 85000   \n",
      "5                   632.0        6.6         2.35                 24000   \n",
      "\n",
      "  imdb_labels  \n",
      "1        good  \n",
      "2    moderate  \n",
      "5    moderate  \n",
      "\n",
      "[3 rows x 29 columns]\n"
     ]
    }
   ],
   "source": [
    "movies_num_usr_rev= movies_df[np.abs(movies_df.num_user_for_reviews-movies_df.num_user_for_reviews.mean()) <= (3*movies_df.num_user_for_reviews.std())]\n",
    "print(type(movies_num_usr_rev))\n",
    "print(movies_num_usr_rev.head(3))"
   ]
  },
  {
   "cell_type": "code",
   "execution_count": 68,
   "metadata": {},
   "outputs": [
    {
     "data": {
      "image/png": "[encoded data removed]",
      "text/plain": [
       "<Figure size 864x576 with 2 Axes>"
      ]
     },
     "metadata": {
      "needs_background": "light"
     },
     "output_type": "display_data"
    }
   ],
   "source": [
    "fig = plt.figure(figsize=(12,8))\n",
    "plt.subplot(1,2,1)\n",
    "sns.distplot(movies_num_usr_rev['num_user_for_reviews'], color='lime')\n",
    "plt.xlabel('No. of Users to Review (Numpy only on \"num_user_for_reviews\")', fontsize=13)\n",
    "plt.subplot(1,2,2)\n",
    "sns.distplot(movies_df_Zscore_usr_rev['num_user_for_reviews'], color='lime')\n",
    "plt.xlabel('No. of Users to Review (Scipy Z Score on \"num_user_for_reviews\" Column)', fontsize=13)\n",
    "plt.tight_layout()\n",
    "plt.show()"
   ]
  },
  {
   "cell_type": "code",
   "execution_count": 69,
   "metadata": {},
   "outputs": [
    {
     "ename": "AttributeError",
     "evalue": "'Series' object has no attribute 'stats'",
     "output_type": "error",
     "traceback": [
      "\u001b[1;31m---------------------------------------------------------------------------\u001b[0m",
      "\u001b[1;31mAttributeError\u001b[0m                            Traceback (most recent call last)",
      "\u001b[1;32m<ipython-input-69-b5f61abba2f4>\u001b[0m in \u001b[0;36m<module>\u001b[1;34m\u001b[0m\n\u001b[1;32m----> 1\u001b[1;33m \u001b[0mmovies_df\u001b[0m\u001b[1;33m[\u001b[0m\u001b[1;34m'budget_zscore'\u001b[0m\u001b[1;33m]\u001b[0m \u001b[1;33m=\u001b[0m \u001b[0mmovies_df\u001b[0m\u001b[1;33m[\u001b[0m\u001b[1;34m'budget'\u001b[0m\u001b[1;33m]\u001b[0m\u001b[1;33m.\u001b[0m\u001b[0mstats\u001b[0m\u001b[1;33m\u001b[0m\u001b[1;33m\u001b[0m\u001b[0m\n\u001b[0m",
      "\u001b[1;32m~\\Anaconda3\\lib\\site-packages\\pandas\\core\\generic.py\u001b[0m in \u001b[0;36m__getattr__\u001b[1;34m(self, name)\u001b[0m\n\u001b[0;32m   5177\u001b[0m             \u001b[1;32mif\u001b[0m \u001b[0mself\u001b[0m\u001b[1;33m.\u001b[0m\u001b[0m_info_axis\u001b[0m\u001b[1;33m.\u001b[0m\u001b[0m_can_hold_identifiers_and_holds_name\u001b[0m\u001b[1;33m(\u001b[0m\u001b[0mname\u001b[0m\u001b[1;33m)\u001b[0m\u001b[1;33m:\u001b[0m\u001b[1;33m\u001b[0m\u001b[1;33m\u001b[0m\u001b[0m\n\u001b[0;32m   5178\u001b[0m                 \u001b[1;32mreturn\u001b[0m \u001b[0mself\u001b[0m\u001b[1;33m[\u001b[0m\u001b[0mname\u001b[0m\u001b[1;33m]\u001b[0m\u001b[1;33m\u001b[0m\u001b[1;33m\u001b[0m\u001b[0m\n\u001b[1;32m-> 5179\u001b[1;33m             \u001b[1;32mreturn\u001b[0m \u001b[0mobject\u001b[0m\u001b[1;33m.\u001b[0m\u001b[0m__getattribute__\u001b[0m\u001b[1;33m(\u001b[0m\u001b[0mself\u001b[0m\u001b[1;33m,\u001b[0m \u001b[0mname\u001b[0m\u001b[1;33m)\u001b[0m\u001b[1;33m\u001b[0m\u001b[1;33m\u001b[0m\u001b[0m\n\u001b[0m\u001b[0;32m   5180\u001b[0m \u001b[1;33m\u001b[0m\u001b[0m\n\u001b[0;32m   5181\u001b[0m     \u001b[1;32mdef\u001b[0m \u001b[0m__setattr__\u001b[0m\u001b[1;33m(\u001b[0m\u001b[0mself\u001b[0m\u001b[1;33m,\u001b[0m \u001b[0mname\u001b[0m\u001b[1;33m,\u001b[0m \u001b[0mvalue\u001b[0m\u001b[1;33m)\u001b[0m\u001b[1;33m:\u001b[0m\u001b[1;33m\u001b[0m\u001b[1;33m\u001b[0m\u001b[0m\n",
      "\u001b[1;31mAttributeError\u001b[0m: 'Series' object has no attribute 'stats'"
     ]
    }
   ],
   "source": [
    "movies_df['budget_zscore'] = movies_df['budget'].stats"
   ]
  },
  {
   "cell_type": "code",
   "execution_count": 70,
   "metadata": {},
   "outputs": [
    {
     "data": {
      "text/plain": [
       "numpy.ndarray"
      ]
     },
     "execution_count": 70,
     "metadata": {},
     "output_type": "execute_result"
    }
   ],
   "source": [
    "type(stats.zscore(movies_df['budget']))"
   ]
  },
  {
   "cell_type": "code",
   "execution_count": 71,
   "metadata": {},
   "outputs": [
    {
     "data": {
      "text/plain": [
       "array([ 0.84415869,  1.12294418,  0.87956003, ..., -0.20457478,\n",
       "       -0.20457478, -0.20460089])"
      ]
     },
     "execution_count": 71,
     "metadata": {},
     "output_type": "execute_result"
    }
   ],
   "source": [
    "budg_zsc = stats.zscore(movies_df['budget'])\n",
    "budg_zsc"
   ]
  },
  {
   "cell_type": "code",
   "execution_count": 72,
   "metadata": {},
   "outputs": [
    {
     "name": "stdout",
     "output_type": "stream",
     "text": [
      "[2136 2146 2681 2696 2983 3259 3571]\n"
     ]
    }
   ],
   "source": [
    "print(np.where(budg_zsc > 3.0)[0])"
   ]
  },
  {
   "cell_type": "code",
   "execution_count": 75,
   "metadata": {},
   "outputs": [
    {
     "name": "stdout",
     "output_type": "stream",
     "text": [
      "18.38109335256886\n",
      "[0.50342088 0.54767254 0.50342088 0.50342088 0.48129504 0.48129504\n",
      " 0.41491755 0.45916921 0.48129504 0.45916921 0.45916921 0.45916921\n",
      " 0.45916921 0.45916921 0.45916921 0.45916921 0.45916921 0.45916921\n",
      " 0.45916921 0.45916921 0.45916921 0.45916921 0.54767254 0.45916921\n",
      " 0.45916921 0.45916921 0.45916921 0.45916921 0.45916921 0.23791089\n",
      " 0.45916921 0.45916921 0.59192421]\n"
     ]
    }
   ],
   "source": [
    "print(budg_zsc[3259])\n",
    "print(budg_zsc[100:133]) # only nan ? because the nan values aren't dropped yet"
   ]
  },
  {
   "cell_type": "code",
   "execution_count": 77,
   "metadata": {},
   "outputs": [
    {
     "name": "stdout",
     "output_type": "stream",
     "text": [
      "<class 'pandas.core.series.Series'>\n",
      "105    0.503421\n",
      "106    0.547673\n",
      "107    0.503421\n",
      "108    0.503421\n",
      "109    0.481295\n",
      "110    0.481295\n",
      "111    0.414918\n",
      "112    0.459169\n",
      "113    0.481295\n",
      "114    0.459169\n",
      "115    0.459169\n",
      "116    0.459169\n",
      "117    0.459169\n",
      "118    0.459169\n",
      "119    0.459169\n",
      "120    0.459169\n",
      "121    0.459169\n",
      "122    0.459169\n",
      "123    0.459169\n",
      "124    0.459169\n",
      "125    0.459169\n",
      "126    0.459169\n",
      "127    0.547673\n",
      "128    0.459169\n",
      "129    0.459169\n",
      "130    0.459169\n",
      "131    0.459169\n",
      "132    0.459169\n",
      "133    0.459169\n",
      "134    0.237911\n",
      "135    0.459169\n",
      "Name: budget, dtype: float64\n",
      "[0.68042753 0.63617587 0.6583017  0.61405004 0.61405004]\n",
      "[   0    1    2    3    4    5    6    7    8    9   10   11   12   13\n",
      "   14   15   16   17   18   19   20   21   22   24   25   26   27   29\n",
      "   30   31   32   33   34   35   36   37   38   40   41   42   43   44\n",
      "   45   46   47   48   50   51   52   53   54   55   58   59   64   78\n",
      "   85   91  755  963 1262 1892 2136 2146 2478 2681 2696 2743 2910 2983\n",
      " 3003 3030 3142 3255 3259 3400 3571 3639 3673]\n"
     ]
    }
   ],
   "source": [
    "print (type( (movies_df.budget - movies_df.budget.mean())/movies_df.budget.std(ddof=0)))\n",
    "mov_df_budget_zscore = (movies_df.budget - movies_df.budget.mean())/movies_df.budget.std(ddof=0)\n",
    "print(mov_df_budget_zscore[100:131])\n",
    "mov_budg_zsc_arr =  mov_df_budget_zscore.values\n",
    "print(mov_budg_zsc_arr[50:55])\n",
    "print(np.where(mov_budg_zsc_arr > .60)[0]) \t\t \n"
   ]
  },
  {
   "cell_type": "code",
   "execution_count": null,
   "metadata": {},
   "outputs": [],
   "source": []
  }
 ],
 "metadata": {
  "kernelspec": {
   "display_name": "Python 3",
   "language": "python",
   "name": "python3"
  },
  "language_info": {
   "codemirror_mode": {
    "name": "ipython",
    "version": 3
   },
   "file_extension": ".py",
   "mimetype": "text/x-python",
   "name": "python",
   "nbconvert_exporter": "python",
   "pygments_lexer": "ipython3",
   "version": "3.7.3"
  }
 },
 "nbformat": 4,
 "nbformat_minor": 2
}
